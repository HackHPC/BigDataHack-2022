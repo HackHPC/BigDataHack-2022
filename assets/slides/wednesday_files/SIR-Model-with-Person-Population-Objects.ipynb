{
 "cells": [
  {
   "cell_type": "raw",
   "id": "11939daa-c8e9-4f02-9e2d-7c3b1d473db2",
   "metadata": {},
   "source": [
    "Person Class\n",
    "\n",
    "attributes (Variables)\n",
    "\tID - Identification - Integer\n",
    "\tAge - Demographics - Integer\n",
    "\tDays Sick - Number of Days Sick - Integer\n",
    "\tStatus - current status - String\n",
    "\t\t\tSusceptible\n",
    "\t\t\tInfected\n",
    "\t\t\tRecovered\n",
    "\t\t\tImmunize\n",
    "\tRiskOfInfection - Infection Rate - Integer\n",
    "\tInteractions [] - List\n",
    "\t\n",
    "Methods/Behaviors - Actions (Functions)\n",
    "\tInfect - we need to infect the Person\n",
    "\tRecover - recover Person\n",
    "\tUpdate - Update them/Check their status everyday\n",
    "\tRollForInfection - Roll the dice to see if they get sick\n",
    "\tGetStatus - return their current status\n"
   ]
  },
  {
   "cell_type": "markdown",
   "id": "1f8acca7-e452-4872-aa75-801e3c6e1555",
   "metadata": {},
   "source": [
    "### I am importing random for random number to determine if someone gets sick or not"
   ]
  },
  {
   "cell_type": "code",
   "execution_count": 4,
   "id": "2ce9f416-78da-489b-aa81-42d91ae92589",
   "metadata": {},
   "outputs": [],
   "source": [
    "import random"
   ]
  },
  {
   "cell_type": "markdown",
   "id": "bd9bbc6a-38c5-4033-9d23-e4aabbfd0730",
   "metadata": {},
   "source": [
    "### let's design our Person class with attributes listed above and methods listed above\n",
    "Person Object"
   ]
  },
  {
   "cell_type": "code",
   "execution_count": 5,
   "id": "f00e3d6c-9ec8-4530-9655-6e623e54b2f0",
   "metadata": {},
   "outputs": [],
   "source": [
    "class Person(object):\n",
    "    def __init__(self, default_days_sick=5, default_infection_rate=10):\n",
    "        self.ID = 0\n",
    "        self.age = 0\n",
    "        self.status = \"Susceptible\"\n",
    "        self.days_sick = 0\n",
    "        self.max_days_sick = default_days_sick\n",
    "        self.infection_rate = default_infection_rate\n",
    "        self.interactions = []\n",
    "        \n",
    "    def set_infection_rate(self, new_rate):\n",
    "        self.infection_rate = new_rate\n",
    "    \n",
    "    def infect(self, number_of_days):\n",
    "        self.days_sick = number_of_days\n",
    "        self.status = \"Infected\"\n",
    "        \n",
    "    def recover(self):\n",
    "        self.days_sick = 0\n",
    "        self.status = \"Recovered\"\n",
    "        \n",
    "    def roll_for_infection(self):\n",
    "        if (random.randint(0,101) < self.infection_rate):\n",
    "            self.infect(self.max_days_sick)\n",
    "            \n",
    "    def get_status(self):\n",
    "        return self.status\n",
    "    \n",
    "    def get_days_sick(self):\n",
    "        return self.days_sick\n",
    "    \n",
    "    def update(self):\n",
    "        if (self.status == \"Susceptible\"):\n",
    "            self.roll_for_infection()\n",
    "            \n",
    "        elif (self.status == \"Infected\"):\n",
    "            self.days_sick = self.days_sick - 1\n",
    "            if (self.days_sick <= 0):\n",
    "                self.recover()\n",
    "                \n",
    "                \n",
    "    \n",
    "    "
   ]
  },
  {
   "cell_type": "code",
   "execution_count": null,
   "id": "652fd000-36a0-4d14-bf95-95eecdf27960",
   "metadata": {},
   "outputs": [],
   "source": [
    "Joe = Person()\n",
    "print (\"Joe is currently:\", Joe.get_status(), \"Joe has been sick for\", Joe.get_days_sick(), \" days\")"
   ]
  },
  {
   "cell_type": "code",
   "execution_count": null,
   "id": "9c4cf5d7-1518-469a-b222-2c75c19efa33",
   "metadata": {},
   "outputs": [],
   "source": [
    "Joe.infect(30)"
   ]
  },
  {
   "cell_type": "code",
   "execution_count": null,
   "id": "6c6e9b9a-63e4-4686-85d9-d3c2d9beb90b",
   "metadata": {},
   "outputs": [],
   "source": [
    "print (\"Joe is currently:\", Joe.get_status(), \", Joe will be sick for\", Joe.get_days_sick(), \" days\")"
   ]
  },
  {
   "cell_type": "code",
   "execution_count": null,
   "id": "a5a83c03-899b-4ab3-8df6-2798fb522437",
   "metadata": {},
   "outputs": [],
   "source": [
    "day = 0\n",
    "Joe = Person()\n",
    "\n",
    "while (Joe.get_status() != \"Recovered\"):\n",
    "    day = day + 1\n",
    "    Joe.update()\n",
    "    print (\"Day\", day)\n",
    "    print (\"Joe is currently:\", Joe.get_status(), \", Joe will be sick for\", Joe.get_days_sick(), \" days\")"
   ]
  },
  {
   "cell_type": "code",
   "execution_count": null,
   "id": "362bb496-b0b6-491e-8f5f-86103a085e3a",
   "metadata": {},
   "outputs": [],
   "source": [
    "day = 0\n",
    "run = 0\n",
    "Joe = Person()\n",
    "Jane = Person()\n",
    "\n",
    "while (Jane.get_status() != \"Recovered\"):\n",
    "    day = day + 1\n",
    "    Joe.update()\n",
    "\n",
    "    ## Jane only gets updated when Joe is Infected or when Jane gets infected\n",
    "    ## (Jane can only get infected when Joe *is* infected)\n",
    "    ## (When Jane is infected, we have to update her, or she'll never Recover)\n",
    "    if (Joe.get_status() == \"Infected\" or Jane.get_status() == \"Infected\"):\n",
    "        Jane.update()\n",
    "    \n",
    "    ## If Joe is Recovered, and Jane is still Susceptible, then reset Joe\n",
    "    \n",
    "    if (Joe.get_status() == \"Recovered\" and Jane.get_status() == \"Susceptible\"):\n",
    "        Joe = Person()\n",
    "        run = run + 1\n",
    "        print(\"------ RESET ------  run::\", run)\n",
    "        \n",
    "    print (\"Day\", day)\n",
    "    print (\"Joe is currently :\", Joe.get_status(), \", Joe will be sick for\", Joe.get_days_sick(), \" days\")\n",
    "    print (\"Jane is currently:\", Jane.get_status(), \", Jane will be sick for\", Jane.get_days_sick(), \" days\")\n",
    "        \n",
    "    \n",
    "    \n",
    "    "
   ]
  },
  {
   "cell_type": "markdown",
   "id": "13e0658f-6c93-4734-9bd6-a930a8074294",
   "metadata": {},
   "source": [
    "### Something is still not quite right, the code works\n",
    "### but there's still too much going on\n",
    "---"
   ]
  },
  {
   "cell_type": "markdown",
   "id": "c11ca63e-390e-4fc5-b3f6-70edbbdda475",
   "metadata": {},
   "source": [
    "#### We need a Population Class"
   ]
  },
  {
   "cell_type": "raw",
   "id": "d5e2010c-000d-4665-a0f8-14d79ce4d85b",
   "metadata": {},
   "source": [
    "Population Class - Brainstorm:\n",
    "\n",
    "Attributes:\n",
    "    number of People\n",
    "    vector of Person Objects\n",
    "    default_days_sick\n",
    "    default_infection_rate\n",
    "    number_of_interactions\n",
    "\n",
    "Each Person interacts with 10 people\n",
    "If a Person is Infected, each Susceptible Person they interact with has to roll to see if they get Infected\n",
    "\n",
    "If a Person is Susceptible, and they interact with an Infected Person, then the Susceptible Person needs to roll to see if they get Infected\n",
    "\n",
    "Methods:\n",
    "    Number of People Susceptible\n",
    "    Number of People Infected\n",
    "    Number of People Recovered\n",
    "    \n",
    "    Update() - update every Person in our population "
   ]
  },
  {
   "cell_type": "markdown",
   "id": "b1c7226e-ec24-472b-950e-39df58bb2dda",
   "metadata": {},
   "source": [
    "## Population Object"
   ]
  },
  {
   "cell_type": "code",
   "execution_count": 11,
   "id": "56d90ad1-ecbe-41d3-9153-aa092446be67",
   "metadata": {},
   "outputs": [],
   "source": [
    "class Population(object):\n",
    "    def __init__(self, number_of_people=1000, default_interactions=10, default_days_sick=5, default_infection_rate=10):\n",
    "        self.People = []\n",
    "        self.population_count = number_of_people\n",
    "        self.number_of_interactions = default_interactions\n",
    "        self.max_days_sick = default_days_sick\n",
    "        self.infection_rate = default_infection_rate\n",
    "        \n",
    "        ## set Patient_Zero aka The Jerk\n",
    "        patient_zero = Person()\n",
    "        patient_zero.infect(self.max_days_sick)\n",
    "        \n",
    "        ## add patient_zero to our People[]\n",
    "        \n",
    "        self.People.append(patient_zero)\n",
    "        \n",
    "        ## build the rest of our Population      \n",
    "        for i in range(0, self.population_count):\n",
    "            new_person = Person()\n",
    "            self.People.append(new_person)\n",
    "    \n",
    "    ##go through our population, and count each person that's susceptible\n",
    "    def number_of_susceptible(self):\n",
    "        count = 0\n",
    "        \n",
    "        for the_person in self.People:\n",
    "            if (the_person.get_status() == \"Susceptible\"):\n",
    "                count = count + 1\n",
    "        \n",
    "        return count\n",
    "    \n",
    "    ##go through the population, and count each person that's infected\n",
    "    def number_of_infected(self):\n",
    "        count = 0\n",
    "        \n",
    "        for the_person in self.People:\n",
    "            if (the_person.get_status() == \"Infected\"):\n",
    "                count = count + 1\n",
    "        \n",
    "        return count\n",
    "    \n",
    "    ##go through the population, and count each person that's recovered\n",
    "    def number_of_recovered(self):\n",
    "        count = 0\n",
    "        \n",
    "        for the_person in self.People:\n",
    "            if (the_person.get_status() == \"Recovered\"):\n",
    "                count = count + 1\n",
    "                \n",
    "        return count\n",
    "    \n",
    "    ##Total Population\n",
    "    def get_population_count(self):\n",
    "        return self.People.count()\n",
    "    \n",
    "    \n",
    "    def update(self):\n",
    "        \n",
    "        ##we're going to make a list of People who might get\n",
    "        ##infected at the end of the day\n",
    "        \n",
    "        might_get_sick = []\n",
    "        \n",
    "        ## go through my Population and see who might get sick\n",
    "        for person in self.People:\n",
    "            person.interactions = []\n",
    "            \n",
    "            ## each person inteteracts w/ number_of_interaction number of people\n",
    "            \n",
    "            for i in range(0, self.number_of_interactions):\n",
    "                r = random.randint(0, self.population_count)\n",
    "                person.interactions.append(r)\n",
    "            \n",
    "            ## if person is infected, their interactions might get infected\n",
    "            if (person.get_status() == \"Infected\"):\n",
    "                ##????? really????\n",
    "                person.update()\n",
    "                \n",
    "                for j in person.interactions:\n",
    "                    if (self.People[j].get_status() == \"Susceptible\"):\n",
    "                        might_get_sick.append(self.People[j])\n",
    "            \n",
    "            ## if person is susceptible, they interact w/ someone infected\n",
    "            if (person.get_status() == \"Susceptible\"):\n",
    "                for j in person.interactions:\n",
    "                    if (self.People[j].get_status() == \"Infected\"):\n",
    "                        might_get_sick.append(person)\n",
    "                        \n",
    "        ##the above updates each person who is infected\n",
    "        ##I have a list of people who **might** get infected\n",
    "        ##each person in that list, has to roll to get infected\n",
    "        \n",
    "        for person in might_get_sick:\n",
    "            person.roll_for_infection()"
   ]
  },
  {
   "cell_type": "markdown",
   "id": "3e891382-8e29-454a-ad57-80225f70dd94",
   "metadata": {},
   "source": [
    "### Our Main Code!\n",
    " Community Object "
   ]
  },
  {
   "cell_type": "code",
   "execution_count": null,
   "id": "f595f5eb-fc77-4864-9bcf-22e6451269a6",
   "metadata": {},
   "outputs": [
    {
     "name": "stdout",
     "output_type": "stream",
     "text": [
      "day: 0 infected: 1 recovered: 0\n",
      "day: 1 infected: 3 recovered: 0\n",
      "day: 2 infected: 7 recovered: 0\n",
      "day: 3 infected: 18 recovered: 0\n",
      "day: 4 infected: 55 recovered: 0\n",
      "day: 5 infected: 152 recovered: 1\n",
      "day: 6 infected: 414 recovered: 3\n"
     ]
    }
   ],
   "source": [
    "##Build our Community\n",
    "\n",
    "myCommunity = Population(40000)\n",
    "day = 0\n",
    "number_infected = myCommunity.number_of_infected()\n",
    "while (number_infected > 0):\n",
    "    number_infected = myCommunity.number_of_infected()\n",
    "    number_recovered = myCommunity.number_of_recovered()\n",
    "    print(\"day:\", day, \"infected:\", number_infected, \"recovered:\", number_recovered)\n",
    "    \n",
    "    day = day + 1\n",
    "    myCommunity.update()\n",
    "\n"
   ]
  },
  {
   "cell_type": "code",
   "execution_count": null,
   "id": "6ad5b6a2-a1fa-424c-ab9f-0b0db56e531c",
   "metadata": {},
   "outputs": [],
   "source": []
  },
  {
   "cell_type": "code",
   "execution_count": null,
   "id": "e5e3f1ad-d4b0-4b46-8ecd-375c2dd61f10",
   "metadata": {},
   "outputs": [],
   "source": []
  }
 ],
 "metadata": {
  "IMAGE_NAME": "taccsciapps/ds-nb-img:base-0.1.0",
  "UUID": "e7ea5304-7648-11ed-bbce-9aff3d7cd6d4",
  "kernelspec": {
   "display_name": "Python 3 (ipykernel)",
   "language": "python",
   "name": "python3"
  },
  "language_info": {
   "codemirror_mode": {
    "name": "ipython",
    "version": 3
   },
   "file_extension": ".py",
   "mimetype": "text/x-python",
   "name": "python",
   "nbconvert_exporter": "python",
   "pygments_lexer": "ipython3",
   "version": "3.9.10"
  }
 },
 "nbformat": 4,
 "nbformat_minor": 5
}
