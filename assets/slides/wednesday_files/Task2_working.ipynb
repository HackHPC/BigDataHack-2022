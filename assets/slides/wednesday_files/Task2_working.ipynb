{
 "cells": [
  {
   "cell_type": "markdown",
   "id": "839c5092-d68e-48a8-94af-022ba960d32c",
   "metadata": {},
   "source": [
    "Person object parameters:\n",
    "\n",
    "Joes:\n",
    "has a state: Suceptable, Infected, Recovered\n",
    "has number of days sick\n",
    "chance of being sick\n",
    "\n"
   ]
  },
  {
   "cell_type": "code",
   "execution_count": 1,
   "id": "5eea30be-ad7f-4da0-a86d-665dc2a9146a",
   "metadata": {},
   "outputs": [],
   "source": [
    "import numpy as np\n",
    "import random"
   ]
  },
  {
   "cell_type": "code",
   "execution_count": 2,
   "id": "def204db-e0d2-4a44-ab04-21aa02b9aec3",
   "metadata": {},
   "outputs": [],
   "source": [
    "class Person(object):\n",
    "    def __init__(self):\n",
    "        self.status = \"Susceptible\"\n",
    "        self.days_sick = 0\n",
    "        self.sickness_rate = 10\n",
    "    \n",
    "    def set_sickness_rate(self, new_rate):\n",
    "        self.sickness_rate = new_rate\n",
    "    \n",
    "    def infect(self, number_of_days_sick):\n",
    "        self.status = \"Infected\"\n",
    "        self.days_sick = number_of_days_sick\n",
    "    \n",
    "    def recover(self):\n",
    "        self.status = \"Recovered\"\n",
    "        self.days_sick = 0\n",
    "    \n",
    "    def update(self):\n",
    "        if (self.status == \"Susceptible\"):\n",
    "            self.roll_for_infection()\n",
    "            \n",
    "        elif (self.status == \"Infected\"):            \n",
    "            self.days_sick = self.days_sick - 1\n",
    "            if (self.days_sick <= 0):\n",
    "                self.recover()\n",
    "\n",
    "            \n",
    "    def roll_for_infection(self):\n",
    "        is_sick = (random.randint(0,101) < self.sickness_rate)\n",
    "        if (is_sick):\n",
    "            self.infect(5)        "
   ]
  },
  {
   "cell_type": "markdown",
   "id": "74e87541-e941-4791-a2e9-4c1d513ce595",
   "metadata": {},
   "source": [
    "Let's implement our object\n",
    "start w/ instantiating Joe as a Person"
   ]
  },
  {
   "cell_type": "code",
   "execution_count": 10,
   "id": "9bb17182-04c4-450d-87c8-84deba516ddf",
   "metadata": {},
   "outputs": [
    {
     "name": "stdout",
     "output_type": "stream",
     "text": [
      "Joe is Susceptible day:1\n",
      "Jane is Susceptible day:1\n",
      "Joe is Infected day:2\n",
      "Jane is Susceptible day:2\n",
      "Joe is Infected day:3\n",
      "Jane is Susceptible day:3\n",
      "Joe is Infected day:4\n",
      "Jane is Infected day:4\n",
      "Joe is Infected day:5\n",
      "Jane is Infected day:5\n",
      "Joe is Infected day:6\n",
      "Jane is Infected day:6\n",
      "Joe is Infected day:7\n",
      "Jane is Infected day:7\n",
      "Joe is Recovered day:8\n",
      "Jane is Infected day:8\n",
      "Joe is Recovered day:9\n",
      "Jane is Infected day:9\n",
      "Joe is Recovered day:10\n",
      "Jane is Recovered day:10\n"
     ]
    }
   ],
   "source": [
    "Joe = Person()\n",
    "Jane = Person()\n",
    "Jane.set_sickness_rate(20) #jane has a different sickness rate, joe has the default\n",
    "\n",
    "day = 0\n",
    "\n",
    "while (Joe.status != \"Recovered\" or Jane.status != \"Recovered\"):\n",
    "    day = day + 1        \n",
    "    Joe.update()\n",
    "    if (Joe.status == \"Infected\" or Jane.status == \"Infected\"):\n",
    "        Jane.update()\n",
    "        \n",
    "        \n",
    "    print(\"Joe is \" + Joe.status + \" day:\" + str(day))\n",
    "    print(\"Jane is \" + Jane.status + \" day:\" + str(day))\n",
    "    \n",
    "    #My conditions didn't happen, let's rerun\n",
    "    #if Joe is recovered and Jane is still susceptable, the condtions for our program weren't met\n",
    "    #run it again!\n",
    "    \n",
    "    if (Joe.status == \"Recovered\" and Jane.status == \"Susceptible\"):\n",
    "        Joe.status = \"Susceptible\"\n",
    "        day = 1\n",
    "        print()\n",
    "        print (\"------- reset -------\")\n"
   ]
  },
  {
   "cell_type": "markdown",
   "id": "87359155-ad4f-4530-b3e0-f39f92c98b8a",
   "metadata": {},
   "source": [
    "We're going to create a population of 1000 Persons\n"
   ]
  },
  {
   "cell_type": "code",
   "execution_count": 11,
   "id": "62245fa8-fc12-445e-bcac-1f74f2ce77ae",
   "metadata": {},
   "outputs": [],
   "source": [
    "my_population = []\n",
    "\n",
    "for i in range(0,1000):\n",
    "    generic_dude = Person()\n",
    "    my_population.append(generic_dude)\n",
    "    "
   ]
  },
  {
   "cell_type": "code",
   "execution_count": 14,
   "id": "304aed05-e388-4606-b946-55dd5e993663",
   "metadata": {},
   "outputs": [
    {
     "data": {
      "text/plain": [
       "__main__.Person"
      ]
     },
     "execution_count": 14,
     "metadata": {},
     "output_type": "execute_result"
    }
   ],
   "source": [
    "type(my_population[100])"
   ]
  },
  {
   "cell_type": "code",
   "execution_count": null,
   "id": "89347799-ca95-483e-a75c-e5115f005ef6",
   "metadata": {},
   "outputs": [],
   "source": []
  }
 ],
 "metadata": {
  "IMAGE_NAME": "taccsciapps/ds-nb-img:base-0.1.0",
  "UUID": "f5fba3ea-e6a5-11ec-b09d-b6ecb6431114",
  "kernelspec": {
   "display_name": "Python 3 (ipykernel)",
   "language": "python",
   "name": "python3"
  },
  "language_info": {
   "codemirror_mode": {
    "name": "ipython",
    "version": 3
   },
   "file_extension": ".py",
   "mimetype": "text/x-python",
   "name": "python",
   "nbconvert_exporter": "python",
   "pygments_lexer": "ipython3",
   "version": "3.9.10"
  }
 },
 "nbformat": 4,
 "nbformat_minor": 5
}
